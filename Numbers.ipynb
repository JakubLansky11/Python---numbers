{
 "cells": [
  {
   "cell_type": "code",
   "execution_count": 199,
   "id": "bb7c9c55",
   "metadata": {},
   "outputs": [],
   "source": [
    "# Funkce je_delitelne umí vyhodnotit, zda zadané číslo je dělitelné číslem označeným jako delitel. \n",
    "# Musí být zadány oba argumenty v tomto pořadí (číslo, dělitel).\n",
    "def je_delitelne(cislo, delitel):\n",
    "    if cislo % delitel == 0:\n",
    "        return True\n",
    "    else:\n",
    "        return False\n",
    "\n",
    "# Funkce je_prvocislo umí vyhodnotit, zda zadané číslo je prvočíslem. \n",
    "def je_prvocislo(cislo):\n",
    "    if cislo < 2:\n",
    "        return False\n",
    "    elif cislo == 2:\n",
    "        return True\n",
    "    for i in range(2, cislo - 1):\n",
    "        if not je_delitelne(cislo, i):\n",
    "            continue\n",
    "        else:\n",
    "            return False\n",
    "    return True\n",
    "\n",
    "# Funkce vypis_prvocisla vypíše prvočísla v zadaném intervalu od do a to včetně horního limitu. \n",
    "# Musí být zadány oba argumenty v tomto pořadí (spodní limit, horní limit).\n",
    "def vypis_prvocisla(spodni_limit, horni_limit):\n",
    "    prvocisla = []\n",
    "    for cislo in range(spodni_limit, horni_limit + 1):\n",
    "        if je_prvocislo(cislo):\n",
    "            prvocisla.append(cislo)\n",
    "        else:\n",
    "            continue\n",
    "    return prvocisla\n",
    "\n",
    "# Funkce vypis_licha_cisla vypíše lichá čísla v zadaném intervalu od do a to včetně horního limitu. \n",
    "# Musí být zadány oba argumenty v tomto pořadí (spodní limit, horní limit).\n",
    "def vypis_licha_cisla(spodni_limit, horni_limit):\n",
    "    licha_cisla = []\n",
    "    for cislo in range(spodni_limit, horni_limit + 1):\n",
    "        if cislo % 2 != 0:\n",
    "            licha_cisla.append(cislo)\n",
    "    return licha_cisla\n",
    "\n",
    "# Funkce vypis_suda_cisla vypíše sudá čísla v zadaném intervalu od do a to včetně horního limitu. \n",
    "# Musí být zadány oba argumenty v tomto pořadí (spodní limit, horní limit).\n",
    "def vypis_suda_cisla(spodni_limit, horni_limit):\n",
    "    suda_cisla = []\n",
    "    for cislo in range(spodni_limit, horni_limit + 1):\n",
    "        if cislo == 0:\n",
    "            continue\n",
    "        elif cislo % 2 == 0:\n",
    "            suda_cisla.append(cislo)\n",
    "    return suda_cisla\n",
    "\n",
    "# Funkce vypis_delitelna_cisla vypíše čísla v zadaném intervalu od do a to včetně horního limitu, která jsou dělitelná číslem uvedeným jako dělitel. \n",
    "# Musí být zadány tři argumenty v tomto pořadí (spodní limit, horní limit, dělitel).\n",
    "def vypis_delitelna_cisla(spodni_limit, horni_limit, delitel):\n",
    "    delitelna_cisla = []\n",
    "    for cislo in range(spodni_limit, horni_limit + 1):\n",
    "        if cislo == 0:\n",
    "            continue\n",
    "        elif cislo % delitel == 0:\n",
    "            delitelna_cisla.append(cislo)\n",
    "    return delitelna_cisla\n",
    "\n",
    "\n"
   ]
  },
  {
   "cell_type": "code",
   "execution_count": 200,
   "id": "8824c853",
   "metadata": {},
   "outputs": [
    {
     "data": {
      "text/plain": [
       "False"
      ]
     },
     "execution_count": 200,
     "metadata": {},
     "output_type": "execute_result"
    }
   ],
   "source": [
    "je_delitelne(26, 5)"
   ]
  },
  {
   "cell_type": "code",
   "execution_count": 201,
   "id": "c1ca3931",
   "metadata": {},
   "outputs": [
    {
     "data": {
      "text/plain": [
       "True"
      ]
     },
     "execution_count": 201,
     "metadata": {},
     "output_type": "execute_result"
    }
   ],
   "source": [
    "je_prvocislo(113)"
   ]
  },
  {
   "cell_type": "code",
   "execution_count": 202,
   "id": "55397e08",
   "metadata": {},
   "outputs": [
    {
     "data": {
      "text/plain": [
       "[2, 3, 5, 7, 11, 13, 17, 19]"
      ]
     },
     "execution_count": 202,
     "metadata": {},
     "output_type": "execute_result"
    }
   ],
   "source": [
    "vypis_prvocisla(0, 20)"
   ]
  },
  {
   "cell_type": "code",
   "execution_count": 203,
   "id": "df34906d",
   "metadata": {},
   "outputs": [
    {
     "data": {
      "text/plain": [
       "[1, 3, 5, 7, 9, 11, 13, 15, 17, 19]"
      ]
     },
     "execution_count": 203,
     "metadata": {},
     "output_type": "execute_result"
    }
   ],
   "source": [
    "vypis_licha_cisla(0, 20)"
   ]
  },
  {
   "cell_type": "code",
   "execution_count": 204,
   "id": "d636d513",
   "metadata": {},
   "outputs": [
    {
     "data": {
      "text/plain": [
       "[2, 4, 6, 8, 10, 12, 14, 16, 18, 20]"
      ]
     },
     "execution_count": 204,
     "metadata": {},
     "output_type": "execute_result"
    }
   ],
   "source": [
    "vypis_suda_cisla(0, 20)"
   ]
  },
  {
   "cell_type": "code",
   "execution_count": 206,
   "id": "c55450be",
   "metadata": {},
   "outputs": [
    {
     "data": {
      "text/plain": [
       "[15, 30, 45, 60, 75, 90, 105]"
      ]
     },
     "execution_count": 206,
     "metadata": {},
     "output_type": "execute_result"
    }
   ],
   "source": [
    "vypis_delitelna_cisla(0, 105, 15)"
   ]
  }
 ],
 "metadata": {
  "kernelspec": {
   "display_name": "Python 3 (ipykernel)",
   "language": "python",
   "name": "python3"
  },
  "language_info": {
   "codemirror_mode": {
    "name": "ipython",
    "version": 3
   },
   "file_extension": ".py",
   "mimetype": "text/x-python",
   "name": "python",
   "nbconvert_exporter": "python",
   "pygments_lexer": "ipython3",
   "version": "3.12.1"
  }
 },
 "nbformat": 4,
 "nbformat_minor": 5
}
