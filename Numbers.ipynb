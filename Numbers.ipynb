{
 "cells": [
  {
   "cell_type": "code",
   "execution_count": 17,
   "id": "bb7c9c55",
   "metadata": {},
   "outputs": [],
   "source": [
    "# Funkce je_delitelne umí vyhodnotit, zda zadané číslo je dělitelné číslem označeným jako delitel. \n",
    "# Musí být zadány oba argumenty v tomto pořadí (číslo, dělitel).\n",
    "def je_delitelne(cislo, delitel):\n",
    "    if cislo % delitel == 0:\n",
    "        return True\n",
    "    else:\n",
    "        return False\n",
    "\n",
    "# Funkce je_prvocislo umí vyhodnotit, zda zadané číslo je prvočíslem. \n",
    "def je_prvocislo(cislo):\n",
    "    if cislo < 2:\n",
    "        return False\n",
    "    elif cislo == 2:\n",
    "        return True\n",
    "    for i in range(2, cislo - 1):\n",
    "        if not je_delitelne(cislo, i):\n",
    "            continue\n",
    "        else:\n",
    "            return False\n",
    "    return True\n",
    "\n",
    "# Funkce vypis_prvocisla vypíše prvočísla v zadaném intervalu od do a to včetně horního limitu. \n",
    "# Musí být zadány oba argumenty v tomto pořadí (spodní limit, horní limit).\n",
    "def vypis_prvocisla(spodni_limit, horni_limit):\n",
    "    prvocisla = [cislo for cislo in range(spodni_limit, horni_limit + 1) if je_prvocislo(cislo)]\n",
    "    return prvocisla\n",
    "\n",
    "# Funkce vypis_licha_cisla vypíše lichá čísla v zadaném intervalu od do a to včetně horního limitu. \n",
    "# Musí být zadány oba argumenty v tomto pořadí (spodní limit, horní limit).\n",
    "def vypis_licha_cisla(spodni_limit, horni_limit):\n",
    "    licha_cisla = [cislo for cislo in range(spodni_limit, horni_limit + 1) if not je_delitelne(cislo, 2)]\n",
    "    return licha_cisla\n",
    "\n",
    "# Funkce vypis_suda_cisla vypíše sudá čísla v zadaném intervalu od do a to včetně horního limitu. \n",
    "# Musí být zadány oba argumenty v tomto pořadí (spodní limit, horní limit).\n",
    "def vypis_suda_cisla(spodni_limit, horni_limit):\n",
    "    suda_cisla = [cislo for cislo in range(spodni_limit, horni_limit + 1) if not je_delitelne(cislo, 2)]\n",
    "    return suda_cisla\n",
    "\n",
    "# Funkce vypis_delitelna_cisla vypíše čísla v zadaném intervalu od do a to včetně horního limitu, která jsou dělitelná číslem uvedeným jako dělitel. \n",
    "# Musí být zadány tři argumenty v tomto pořadí (spodní limit, horní limit, dělitel).\n",
    "def vypis_delitelna_cisla(spodni_limit, horni_limit, delitel):\n",
    "    delitelna_cisla = [cislo for cislo in range(spodni_limit, horni_limit + 1) if je_delitelne(cislo, delitel)]\n",
    "    return delitelna_cisla\n"
   ]
  }
 ],
 "metadata": {
  "kernelspec": {
   "display_name": "Python 3 (ipykernel)",
   "language": "python",
   "name": "python3"
  },
  "language_info": {
   "codemirror_mode": {
    "name": "ipython",
    "version": 3
   },
   "file_extension": ".py",
   "mimetype": "text/x-python",
   "name": "python",
   "nbconvert_exporter": "python",
   "pygments_lexer": "ipython3",
   "version": "3.12.1"
  }
 },
 "nbformat": 4,
 "nbformat_minor": 5
}
